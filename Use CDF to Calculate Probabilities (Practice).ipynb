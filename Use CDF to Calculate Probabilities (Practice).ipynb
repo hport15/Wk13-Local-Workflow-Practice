{
 "cells": [
  {
   "cell_type": "code",
   "execution_count": 9,
   "id": "77dbc2f8",
   "metadata": {},
   "outputs": [],
   "source": [
    "import pandas as pd\n",
    "import numpy as np\n",
    "import matplotlib.pyplot as plt\n",
    "import seaborn as sns\n",
    "import scipy.stats as stats"
   ]
  },
  {
   "cell_type": "markdown",
   "id": "a3bba351",
   "metadata": {},
   "source": [
    "Use the normal cumulative distribution function with the mean and standard deviation of female height to calculate the probability that a female's height is:\n",
    "\n",
    "1. between 55.0 and 56.0 inches\n",
    "\n",
    "2. is less than 5 feet (60 in)\n",
    "\n",
    "3. is greater than than the mean (hint: do you know this answer intuitively?)\n",
    "\n"
   ]
  },
  {
   "cell_type": "code",
   "execution_count": 2,
   "id": "cd68e209",
   "metadata": {},
   "outputs": [
    {
     "data": {
      "text/html": [
       "<div>\n",
       "<style scoped>\n",
       "    .dataframe tbody tr th:only-of-type {\n",
       "        vertical-align: middle;\n",
       "    }\n",
       "\n",
       "    .dataframe tbody tr th {\n",
       "        vertical-align: top;\n",
       "    }\n",
       "\n",
       "    .dataframe thead th {\n",
       "        text-align: right;\n",
       "    }\n",
       "</style>\n",
       "<table border=\"1\" class=\"dataframe\">\n",
       "  <thead>\n",
       "    <tr style=\"text-align: right;\">\n",
       "      <th></th>\n",
       "      <th>Gender</th>\n",
       "      <th>Height</th>\n",
       "      <th>Weight</th>\n",
       "    </tr>\n",
       "  </thead>\n",
       "  <tbody>\n",
       "    <tr>\n",
       "      <th>0</th>\n",
       "      <td>Male</td>\n",
       "      <td>73.847017</td>\n",
       "      <td>241.893563</td>\n",
       "    </tr>\n",
       "    <tr>\n",
       "      <th>1</th>\n",
       "      <td>Male</td>\n",
       "      <td>68.781904</td>\n",
       "      <td>162.310473</td>\n",
       "    </tr>\n",
       "    <tr>\n",
       "      <th>2</th>\n",
       "      <td>Male</td>\n",
       "      <td>74.110105</td>\n",
       "      <td>212.740856</td>\n",
       "    </tr>\n",
       "    <tr>\n",
       "      <th>3</th>\n",
       "      <td>Male</td>\n",
       "      <td>71.730978</td>\n",
       "      <td>220.042470</td>\n",
       "    </tr>\n",
       "    <tr>\n",
       "      <th>4</th>\n",
       "      <td>Male</td>\n",
       "      <td>69.881796</td>\n",
       "      <td>206.349801</td>\n",
       "    </tr>\n",
       "  </tbody>\n",
       "</table>\n",
       "</div>"
      ],
      "text/plain": [
       "  Gender     Height      Weight\n",
       "0   Male  73.847017  241.893563\n",
       "1   Male  68.781904  162.310473\n",
       "2   Male  74.110105  212.740856\n",
       "3   Male  71.730978  220.042470\n",
       "4   Male  69.881796  206.349801"
      ]
     },
     "execution_count": 2,
     "metadata": {},
     "output_type": "execute_result"
    }
   ],
   "source": [
    "df = pd.read_csv('https://docs.google.com/spreadsheets/d/e/2PACX-1vRxp-hsw61ck9cpt5ExZIUhvSGT5zYzoUJl_7xr7YF5qZeazC8393q2taqwkDvMxVirgFDJm1WX3uAC/pub?output=csv')\n",
    "df.head()"
   ]
  },
  {
   "cell_type": "code",
   "execution_count": 3,
   "id": "d1098653",
   "metadata": {},
   "outputs": [],
   "source": [
    "female = df.loc[df['Gender']=='Female'].copy() "
   ]
  },
  {
   "cell_type": "code",
   "execution_count": 4,
   "id": "8582d0fb",
   "metadata": {},
   "outputs": [],
   "source": [
    "data = female['Height']"
   ]
  },
  {
   "cell_type": "code",
   "execution_count": 5,
   "id": "d41eb8b7",
   "metadata": {},
   "outputs": [],
   "source": [
    "# various variables\n",
    "low = 55\n",
    "high = 56\n",
    "mean = np.mean(data)\n",
    "std = np.std(data)\n",
    "min = np.min(data)\n",
    "max = np.max(data)\n",
    "xRange = np.linspace(min, max, 1000)"
   ]
  },
  {
   "cell_type": "code",
   "execution_count": 13,
   "id": "fe07121a",
   "metadata": {},
   "outputs": [
    {
     "data": {
      "text/plain": [
       "Text(0.5, 1.0, 'Normal cdf')"
      ]
     },
     "execution_count": 13,
     "metadata": {},
     "output_type": "execute_result"
    },
    {
     "data": {
      "image/png": "[encoded data removed]",
      "text/plain": [
       "<Figure size 720x360 with 1 Axes>"
      ]
     },
     "metadata": {
      "needs_background": "light"
     },
     "output_type": "display_data"
    }
   ],
   "source": [
    "# cdf\n",
    "cdf = stats.norm.cdf(xRange, loc=mean, scale=std)\n",
    "\n",
    "# plot cdf\n",
    "fig, ax = plt.subplots(figsize=(10,5))\n",
    "sns.histplot(x=data, stat='density', cumulative=True)\n",
    "ax.plot(xRange, cdf, color='red')\n",
    "ax.axvline(low, color='black')\n",
    "ax.axvline(high, color='black')\n",
    "ax.axvspan(low, high, color='yellow', zorder=0)\n",
    "ax.set_title('Normal cdf')"
   ]
  },
  {
   "cell_type": "code",
   "execution_count": 14,
   "id": "f3a1f56f",
   "metadata": {},
   "outputs": [
    {
     "data": {
      "text/plain": [
       "0.0015043054289559745"
      ]
     },
     "execution_count": 14,
     "metadata": {},
     "output_type": "execute_result"
    }
   ],
   "source": [
    "# calculate the probability that a female's height is: between 55.0 and 56.0in\n",
    "stats.norm.cdf(high, loc=mean, scale=std) - stats.norm.cdf(low, loc=mean, \n",
    "                                                           scale=std)"
   ]
  },
  {
   "cell_type": "markdown",
   "id": "fc55bdde",
   "metadata": {},
   "source": [
    "There is a .15% probability that a female's height is between 55-56 in."
   ]
  },
  {
   "cell_type": "code",
   "execution_count": 15,
   "id": "1d2b211f",
   "metadata": {},
   "outputs": [
    {
     "data": {
      "text/plain": [
       "0.0844649272520746"
      ]
     },
     "execution_count": 15,
     "metadata": {},
     "output_type": "execute_result"
    }
   ],
   "source": [
    "# calculate the probability that a female's height is less than 5 feet (60 in)\n",
    "stats.norm.cdf(60, loc=mean, scale=std)"
   ]
  },
  {
   "cell_type": "markdown",
   "id": "e6a80042",
   "metadata": {},
   "source": [
    "There is a 8.4% probability that a female's height is less than 5 feet."
   ]
  },
  {
   "cell_type": "code",
   "execution_count": 16,
   "id": "707ad37c",
   "metadata": {},
   "outputs": [
    {
     "data": {
      "text/plain": [
       "0.5"
      ]
     },
     "execution_count": 16,
     "metadata": {},
     "output_type": "execute_result"
    }
   ],
   "source": [
    "# calculate the probability that a female's height is greater than than the \n",
    "# mean (hint: do you know this answer intuitively?)\n",
    "1 - stats.norm.cdf(mean, loc=mean, scale=std)"
   ]
  },
  {
   "cell_type": "markdown",
   "id": "9114fdad",
   "metadata": {},
   "source": [
    "In a normal distribution, half the data is below the mean and the other half above so intuitively I'd say the probability is 50%. This was confirmed above^"
   ]
  },
  {
   "cell_type": "code",
   "execution_count": null,
   "id": "be558e9b",
   "metadata": {},
   "outputs": [],
   "source": []
  }
 ],
 "metadata": {
  "kernelspec": {
   "display_name": "Python (dojo-env)",
   "language": "python",
   "name": "dojo-env"
  },
  "language_info": {
   "codemirror_mode": {
    "name": "ipython",
    "version": 3
   },
   "file_extension": ".py",
   "mimetype": "text/x-python",
   "name": "python",
   "nbconvert_exporter": "python",
   "pygments_lexer": "ipython3",
   "version": "3.7.12"
  },
  "toc": {
   "base_numbering": 1,
   "nav_menu": {},
   "number_sections": true,
   "sideBar": true,
   "skip_h1_title": false,
   "title_cell": "Table of Contents",
   "title_sidebar": "Contents",
   "toc_cell": false,
   "toc_position": {},
   "toc_section_display": true,
   "toc_window_display": false
  },
  "widgets": {
   "application/vnd.jupyter.widget-state+json": {
    "state": {},
    "version_major": 2,
    "version_minor": 0
   }
  }
 },
 "nbformat": 4,
 "nbformat_minor": 5
}
