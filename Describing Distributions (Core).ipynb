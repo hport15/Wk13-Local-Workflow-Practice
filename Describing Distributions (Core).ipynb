{
 "cells": [
  {
   "cell_type": "markdown",
   "id": "aac50cf7",
   "metadata": {},
   "source": [
    "The features to analyze: \n",
    "\n",
    "VitD_levels\n",
    "\n",
    "Doc_visits\n",
    "\n",
    "TotalCharge\n",
    "\n",
    "\n",
    "For each feature listed:\n",
    "\n",
    "Plot a histogram with a kde (kernel density estimate)\n",
    "\n",
    "Add a line for the mean (red)\n",
    "\n",
    "Add a line for the median (green)\n",
    "\n",
    "Add a line for for +1 std from the mean (black)\n",
    "\n",
    "Add a line for the - 1 std from the mean (black)\n",
    "\n",
    "Highlight the range between +1 and =1 std (yellow)\n",
    "\n",
    "Answer the following questions:\n",
    "Is it Discrete or Continuous?\n",
    "\n",
    "Does it have a skew? If so, which direction (+/-)\n",
    "\n",
    "What type of kurtosis does it display? (Mesokurtic, Leptokurtic, Platykurtic)"
   ]
  },
  {
   "cell_type": "code",
   "execution_count": 1,
   "id": "41d2f1af",
   "metadata": {},
   "outputs": [],
   "source": [
    "import numpy as np\n",
    "import pandas as pd\n",
    "import matplotlib.pyplot as plt\n",
    "import seaborn as sns"
   ]
  },
  {
   "cell_type": "code",
   "execution_count": 2,
   "id": "7dd865c8",
   "metadata": {},
   "outputs": [
    {
     "data": {
      "text/html": [
       "<div>\n",
       "<style scoped>\n",
       "    .dataframe tbody tr th:only-of-type {\n",
       "        vertical-align: middle;\n",
       "    }\n",
       "\n",
       "    .dataframe tbody tr th {\n",
       "        vertical-align: top;\n",
       "    }\n",
       "\n",
       "    .dataframe thead th {\n",
       "        text-align: right;\n",
       "    }\n",
       "</style>\n",
       "<table border=\"1\" class=\"dataframe\">\n",
       "  <thead>\n",
       "    <tr style=\"text-align: right;\">\n",
       "      <th></th>\n",
       "      <th>State</th>\n",
       "      <th>Lat</th>\n",
       "      <th>Lng</th>\n",
       "      <th>Area</th>\n",
       "      <th>Children</th>\n",
       "      <th>Age</th>\n",
       "      <th>Income</th>\n",
       "      <th>Marital</th>\n",
       "      <th>Gender</th>\n",
       "      <th>ReAdmis</th>\n",
       "      <th>...</th>\n",
       "      <th>Hyperlipidemia</th>\n",
       "      <th>BackPain</th>\n",
       "      <th>Anxiety</th>\n",
       "      <th>Allergic_rhinitis</th>\n",
       "      <th>Reflux_esophagitis</th>\n",
       "      <th>Asthma</th>\n",
       "      <th>Services</th>\n",
       "      <th>Initial_days</th>\n",
       "      <th>TotalCharge</th>\n",
       "      <th>Additional_charges</th>\n",
       "    </tr>\n",
       "  </thead>\n",
       "  <tbody>\n",
       "    <tr>\n",
       "      <th>0</th>\n",
       "      <td>AL</td>\n",
       "      <td>34.34960</td>\n",
       "      <td>-86.72508</td>\n",
       "      <td>Suburban</td>\n",
       "      <td>1.0</td>\n",
       "      <td>53</td>\n",
       "      <td>86575.93</td>\n",
       "      <td>Divorced</td>\n",
       "      <td>Male</td>\n",
       "      <td>0</td>\n",
       "      <td>...</td>\n",
       "      <td>0.0</td>\n",
       "      <td>1.0</td>\n",
       "      <td>1.0</td>\n",
       "      <td>1.0</td>\n",
       "      <td>0</td>\n",
       "      <td>1</td>\n",
       "      <td>Blood Work</td>\n",
       "      <td>10.585770</td>\n",
       "      <td>3726.702860</td>\n",
       "      <td>17939.403420</td>\n",
       "    </tr>\n",
       "    <tr>\n",
       "      <th>1</th>\n",
       "      <td>FL</td>\n",
       "      <td>30.84513</td>\n",
       "      <td>-85.22907</td>\n",
       "      <td>Urban</td>\n",
       "      <td>3.0</td>\n",
       "      <td>51</td>\n",
       "      <td>46805.99</td>\n",
       "      <td>Married</td>\n",
       "      <td>Female</td>\n",
       "      <td>0</td>\n",
       "      <td>...</td>\n",
       "      <td>0.0</td>\n",
       "      <td>0.0</td>\n",
       "      <td>0.0</td>\n",
       "      <td>0.0</td>\n",
       "      <td>1</td>\n",
       "      <td>0</td>\n",
       "      <td>Intravenous</td>\n",
       "      <td>15.129562</td>\n",
       "      <td>4193.190458</td>\n",
       "      <td>17612.998120</td>\n",
       "    </tr>\n",
       "    <tr>\n",
       "      <th>2</th>\n",
       "      <td>SD</td>\n",
       "      <td>43.54321</td>\n",
       "      <td>-96.63772</td>\n",
       "      <td>Suburban</td>\n",
       "      <td>3.0</td>\n",
       "      <td>53</td>\n",
       "      <td>14370.14</td>\n",
       "      <td>Widowed</td>\n",
       "      <td>Female</td>\n",
       "      <td>0</td>\n",
       "      <td>...</td>\n",
       "      <td>0.0</td>\n",
       "      <td>0.0</td>\n",
       "      <td>0.0</td>\n",
       "      <td>0.0</td>\n",
       "      <td>0</td>\n",
       "      <td>0</td>\n",
       "      <td>Blood Work</td>\n",
       "      <td>4.772177</td>\n",
       "      <td>2434.234222</td>\n",
       "      <td>17505.192460</td>\n",
       "    </tr>\n",
       "    <tr>\n",
       "      <th>3</th>\n",
       "      <td>MN</td>\n",
       "      <td>43.89744</td>\n",
       "      <td>-93.51479</td>\n",
       "      <td>Suburban</td>\n",
       "      <td>0.0</td>\n",
       "      <td>78</td>\n",
       "      <td>39741.49</td>\n",
       "      <td>Married</td>\n",
       "      <td>Male</td>\n",
       "      <td>0</td>\n",
       "      <td>...</td>\n",
       "      <td>0.0</td>\n",
       "      <td>0.0</td>\n",
       "      <td>0.0</td>\n",
       "      <td>0.0</td>\n",
       "      <td>1</td>\n",
       "      <td>1</td>\n",
       "      <td>Blood Work</td>\n",
       "      <td>1.714879</td>\n",
       "      <td>2127.830423</td>\n",
       "      <td>12993.437350</td>\n",
       "    </tr>\n",
       "    <tr>\n",
       "      <th>4</th>\n",
       "      <td>VA</td>\n",
       "      <td>37.59894</td>\n",
       "      <td>-76.88958</td>\n",
       "      <td>Rural</td>\n",
       "      <td>1.0</td>\n",
       "      <td>22</td>\n",
       "      <td>1209.56</td>\n",
       "      <td>Widowed</td>\n",
       "      <td>Female</td>\n",
       "      <td>0</td>\n",
       "      <td>...</td>\n",
       "      <td>1.0</td>\n",
       "      <td>0.0</td>\n",
       "      <td>0.0</td>\n",
       "      <td>1.0</td>\n",
       "      <td>0</td>\n",
       "      <td>0</td>\n",
       "      <td>CT Scan</td>\n",
       "      <td>1.254807</td>\n",
       "      <td>2113.073274</td>\n",
       "      <td>3716.525786</td>\n",
       "    </tr>\n",
       "  </tbody>\n",
       "</table>\n",
       "<p>5 rows × 32 columns</p>\n",
       "</div>"
      ],
      "text/plain": [
       "  State       Lat       Lng      Area  Children  Age    Income   Marital  \\\n",
       "0    AL  34.34960 -86.72508  Suburban       1.0   53  86575.93  Divorced   \n",
       "1    FL  30.84513 -85.22907     Urban       3.0   51  46805.99   Married   \n",
       "2    SD  43.54321 -96.63772  Suburban       3.0   53  14370.14   Widowed   \n",
       "3    MN  43.89744 -93.51479  Suburban       0.0   78  39741.49   Married   \n",
       "4    VA  37.59894 -76.88958     Rural       1.0   22   1209.56   Widowed   \n",
       "\n",
       "   Gender  ReAdmis  ...  Hyperlipidemia  BackPain  Anxiety  Allergic_rhinitis  \\\n",
       "0    Male        0  ...             0.0       1.0      1.0                1.0   \n",
       "1  Female        0  ...             0.0       0.0      0.0                0.0   \n",
       "2  Female        0  ...             0.0       0.0      0.0                0.0   \n",
       "3    Male        0  ...             0.0       0.0      0.0                0.0   \n",
       "4  Female        0  ...             1.0       0.0      0.0                1.0   \n",
       "\n",
       "   Reflux_esophagitis Asthma     Services  Initial_days  TotalCharge  \\\n",
       "0                   0      1   Blood Work     10.585770  3726.702860   \n",
       "1                   1      0  Intravenous     15.129562  4193.190458   \n",
       "2                   0      0   Blood Work      4.772177  2434.234222   \n",
       "3                   1      1   Blood Work      1.714879  2127.830423   \n",
       "4                   0      0      CT Scan      1.254807  2113.073274   \n",
       "\n",
       "   Additional_charges  \n",
       "0        17939.403420  \n",
       "1        17612.998120  \n",
       "2        17505.192460  \n",
       "3        12993.437350  \n",
       "4         3716.525786  \n",
       "\n",
       "[5 rows x 32 columns]"
      ]
     },
     "execution_count": 2,
     "metadata": {},
     "output_type": "execute_result"
    }
   ],
   "source": [
    "file = 'Data/data-6.csv'\n",
    "df = pd.read_csv(file)\n",
    "df.head()"
   ]
  },
  {
   "cell_type": "code",
   "execution_count": 19,
   "id": "958716cf",
   "metadata": {},
   "outputs": [
    {
     "data": {
      "text/plain": [
       "<matplotlib.legend.Legend at 0x7fcd9a00e950>"
      ]
     },
     "execution_count": 19,
     "metadata": {},
     "output_type": "execute_result"
    },
    {
     "data": {
      "image/png": "[encoded data removed]",
      "text/plain": [
       "<Figure size 720x360 with 1 Axes>"
      ]
     },
     "metadata": {
      "needs_background": "light"
     },
     "output_type": "display_data"
    }
   ],
   "source": [
    "# VitD_levels\n",
    "col = 'VitD_levels'\n",
    "feature = df[col]\n",
    "mean = feature.mean()\n",
    "median = feature.median()\n",
    "std = feature.std()\n",
    "plus1 = mean + std\n",
    "min1 = mean - std\n",
    "fig, ax = plt.subplots(figsize=(10,5))\n",
    "sns.histplot(x=feature, stat='probability', kde=True)\n",
    "ax.axvline(mean, color='red', label=f'Mean = {mean:,.2f}')\n",
    "ax.axvline(median, color='green', label=f'Median = {median:,.2f}')\n",
    "ax.axvline(plus1, color='black', label=f'+1 std = {plus1:,.2f}')\n",
    "ax.axvline(min1, color='black', label=f'-1 std = {min1:,.2f}')\n",
    "ax.axvspan(plus1, min1, color='yellow', zorder=0)\n",
    "ax.legend()"
   ]
  },
  {
   "cell_type": "code",
   "execution_count": 20,
   "id": "0a0edf2b",
   "metadata": {},
   "outputs": [
    {
     "data": {
      "text/plain": [
       "3.013147515833447"
      ]
     },
     "execution_count": 20,
     "metadata": {},
     "output_type": "execute_result"
    }
   ],
   "source": [
    "# kurtosis\n",
    "from scipy import stats\n",
    "kurtVitD = stats.kurtosis(feature, fisher=False)\n",
    "kurtVitD"
   ]
  },
  {
   "cell_type": "markdown",
   "id": "08d0aa04",
   "metadata": {},
   "source": [
    "Is it Discrete or Continuous?\n",
    "Continuous\n",
    "\n",
    "Does it have a skew? If so, which direction (+/-)\n",
    "It doesn't really have a skew.\n",
    "\n",
    "What type of kurtosis does it display? (Mesokurtic, Leptokurtic, Platykurtic)\n",
    "It is Mesokurtic."
   ]
  },
  {
   "cell_type": "code",
   "execution_count": 21,
   "id": "5f766703",
   "metadata": {},
   "outputs": [
    {
     "data": {
      "text/plain": [
       "<matplotlib.legend.Legend at 0x7fcdc9c51bd0>"
      ]
     },
     "execution_count": 21,
     "metadata": {},
     "output_type": "execute_result"
    },
    {
     "data": {
      "image/png": "[encoded data removed]",
      "text/plain": [
       "<Figure size 720x360 with 1 Axes>"
      ]
     },
     "metadata": {
      "needs_background": "light"
     },
     "output_type": "display_data"
    }
   ],
   "source": [
    "# Doc_visits\n",
    "col = 'Doc_visits'\n",
    "feature = df[col]\n",
    "mean = feature.mean()\n",
    "median = feature.median()\n",
    "std = feature.std()\n",
    "plus1 = mean + std\n",
    "min1 = mean - std\n",
    "fig, ax = plt.subplots(figsize=(10,5))\n",
    "sns.histplot(x=feature, stat='probability', kde=True)\n",
    "ax.axvline(mean, color='red', label=f'Mean = {mean:,.2f}')\n",
    "ax.axvline(median, color='green', label=f'Median = {median:,.2f}')\n",
    "ax.axvline(plus1, color='black', label=f'+1 std = {plus1:,.2f}')\n",
    "ax.axvline(min1, color='black', label=f'-1 std = {min1:,.2f}')\n",
    "ax.axvspan(plus1, min1, color='yellow', zorder=0)\n",
    "ax.legend()"
   ]
  },
  {
   "cell_type": "code",
   "execution_count": 22,
   "id": "94c4c8fe",
   "metadata": {},
   "outputs": [
    {
     "data": {
      "text/plain": [
       "2.9919958083381206"
      ]
     },
     "execution_count": 22,
     "metadata": {},
     "output_type": "execute_result"
    }
   ],
   "source": [
    "# kurtosis\n",
    "kurtDocVisits = stats.kurtosis(feature, fisher=False)\n",
    "kurtDocVisits"
   ]
  },
  {
   "cell_type": "markdown",
   "id": "108f6b55",
   "metadata": {},
   "source": [
    "Is it Discrete or Continuous?\n",
    "Discrete\n",
    "\n",
    "Does it have a skew? If so, which direction (+/-)\n",
    "It doesn't really have a skew.\n",
    "\n",
    "What type of kurtosis does it display? (Mesokurtic, Leptokurtic, Platykurtic)\n",
    "Mesokurtic"
   ]
  },
  {
   "cell_type": "code",
   "execution_count": 23,
   "id": "1fd323b9",
   "metadata": {},
   "outputs": [
    {
     "data": {
      "text/plain": [
       "<matplotlib.legend.Legend at 0x7fcd9a355290>"
      ]
     },
     "execution_count": 23,
     "metadata": {},
     "output_type": "execute_result"
    },
    {
     "data": {
      "image/png": "[encoded data removed]",
      "text/plain": [
       "<Figure size 720x360 with 1 Axes>"
      ]
     },
     "metadata": {
      "needs_background": "light"
     },
     "output_type": "display_data"
    }
   ],
   "source": [
    "# TotalCharge\n",
    "col = 'TotalCharge'\n",
    "feature = df[col]\n",
    "mean = feature.mean()\n",
    "median = feature.median()\n",
    "std = feature.std()\n",
    "plus1 = mean + std\n",
    "min1 = mean - std\n",
    "fig, ax = plt.subplots(figsize=(10,5))\n",
    "sns.histplot(x=feature, stat='probability', kde=True)\n",
    "ax.axvline(mean, color='red', label=f'Mean = {mean:,.2f}')\n",
    "ax.axvline(median, color='green', label=f'Median = {median:,.2f}')\n",
    "ax.axvline(plus1, color='black', label=f'+1 std = {plus1:,.2f}')\n",
    "ax.axvline(min1, color='black', label=f'-1 std = {min1:,.2f}')\n",
    "ax.axvspan(plus1, min1, color='yellow', zorder=0)\n",
    "ax.legend()"
   ]
  },
  {
   "cell_type": "code",
   "execution_count": 24,
   "id": "c51b6b5e",
   "metadata": {},
   "outputs": [
    {
     "data": {
      "text/plain": [
       "3.2650077463439384"
      ]
     },
     "execution_count": 24,
     "metadata": {},
     "output_type": "execute_result"
    }
   ],
   "source": [
    "# kurtosis\n",
    "kurtTotalCharges = stats.kurtosis(feature, fisher=False)\n",
    "kurtTotalCharges"
   ]
  },
  {
   "cell_type": "markdown",
   "id": "fe2ab887",
   "metadata": {},
   "source": [
    "Is it Discrete or Continuous? Continuous\n",
    "Does it have a skew? If so, which direction (+/-) It has a very slight positive skew.\n",
    "What type of kurtosis does it display? (Mesokurtic, Leptokurtic, Platykurtic) Mesokurtic"
   ]
  },
  {
   "cell_type": "code",
   "execution_count": null,
   "id": "b7121bff",
   "metadata": {},
   "outputs": [],
   "source": []
  }
 ],
 "metadata": {
  "kernelspec": {
   "display_name": "Python (dojo-env)",
   "language": "python",
   "name": "dojo-env"
  },
  "language_info": {
   "codemirror_mode": {
    "name": "ipython",
    "version": 3
   },
   "file_extension": ".py",
   "mimetype": "text/x-python",
   "name": "python",
   "nbconvert_exporter": "python",
   "pygments_lexer": "ipython3",
   "version": "3.7.12"
  },
  "toc": {
   "base_numbering": 1,
   "nav_menu": {},
   "number_sections": true,
   "sideBar": true,
   "skip_h1_title": false,
   "title_cell": "Table of Contents",
   "title_sidebar": "Contents",
   "toc_cell": false,
   "toc_position": {},
   "toc_section_display": true,
   "toc_window_display": false
  },
  "widgets": {
   "application/vnd.jupyter.widget-state+json": {
    "state": {},
    "version_major": 2,
    "version_minor": 0
   }
  }
 },
 "nbformat": 4,
 "nbformat_minor": 5
}
